{
 "cells": [
  {
   "cell_type": "markdown",
   "metadata": {},
   "source": [
    "## Import"
   ]
  },
  {
   "cell_type": "code",
   "execution_count": 1,
   "metadata": {
    "ExecuteTime": {
     "end_time": "2020-12-14T11:16:07.286170Z",
     "start_time": "2020-12-14T11:16:03.321426Z"
    }
   },
   "outputs": [],
   "source": [
    "import numpy as np\n",
    "import pandas as pd\n",
    "from glob import glob\n",
    "import matplotlib.pyplot as plt\n",
    "\n",
    "from sklearn.metrics import classification_report\n",
    "\n",
    "import nibabel as nib\n",
    "\n",
    "import torch\n",
    "import torch.optim as optim\n",
    "from torch.optim.lr_scheduler import MultiplicativeLR\n",
    "\n",
    "from torchsummary import summary\n",
    "\n",
    "%matplotlib inline"
   ]
  },
  {
   "cell_type": "markdown",
   "metadata": {},
   "source": [
    "They have only one size. Below code checks the size of the all the files"
   ]
  },
  {
   "cell_type": "code",
   "execution_count": 2,
   "metadata": {
    "ExecuteTime": {
     "end_time": "2020-12-14T11:16:07.301156Z",
     "start_time": "2020-12-14T11:16:07.294157Z"
    }
   },
   "outputs": [],
   "source": [
    "# set(nib.load(b).get_fdata().shape for b in glob('blurred/*.BRIK'))"
   ]
  },
  {
   "cell_type": "markdown",
   "metadata": {},
   "source": [
    "## Model"
   ]
  },
  {
   "cell_type": "code",
   "execution_count": 3,
   "metadata": {
    "ExecuteTime": {
     "end_time": "2020-12-14T11:16:07.513351Z",
     "start_time": "2020-12-14T11:16:07.302187Z"
    }
   },
   "outputs": [],
   "source": [
    "from model import *"
   ]
  },
  {
   "cell_type": "code",
   "execution_count": 4,
   "metadata": {
    "ExecuteTime": {
     "end_time": "2020-12-14T11:16:07.588332Z",
     "start_time": "2020-12-14T11:16:07.520346Z"
    }
   },
   "outputs": [
    {
     "name": "stderr",
     "output_type": "stream",
     "text": [
      "G:\\내 드라이브\\termpj\\model.py:102: UserWarning: nn.init.xavier_uniform is now deprecated in favor of nn.init.xavier_uniform_.\n",
      "  nn.init.xavier_uniform(m.weight, gain=nn.init.calculate_gain('relu'))\n"
     ]
    }
   ],
   "source": [
    "model = DeepBrain(inplanes=179, planes=3)"
   ]
  },
  {
   "cell_type": "code",
   "execution_count": 5,
   "metadata": {
    "ExecuteTime": {
     "end_time": "2020-12-14T11:16:10.153714Z",
     "start_time": "2020-12-14T11:16:07.590335Z"
    }
   },
   "outputs": [
    {
     "name": "stdout",
     "output_type": "stream",
     "text": [
      "----------------------------------------------------------------\n",
      "        Layer (type)               Output Shape         Param #\n",
      "================================================================\n",
      "            Conv3d-1        [-1, 3, 72, 72, 36]             540\n",
      "       BatchNorm3d-2        [-1, 3, 72, 72, 36]               6\n",
      "              ReLU-3        [-1, 3, 72, 72, 36]               0\n",
      "            Conv3d-4       [-1, 16, 36, 36, 18]           1,312\n",
      "       BatchNorm3d-5       [-1, 16, 36, 36, 18]              32\n",
      "              ReLU-6       [-1, 16, 36, 36, 18]               0\n",
      "            Conv3d-7       [-1, 32, 36, 36, 18]             544\n",
      "       BatchNorm3d-8       [-1, 32, 36, 36, 18]              64\n",
      "            Conv3d-9       [-1, 32, 36, 36, 18]          13,856\n",
      "      BatchNorm3d-10       [-1, 32, 36, 36, 18]              64\n",
      "             ReLU-11       [-1, 32, 36, 36, 18]               0\n",
      "           Conv3d-12       [-1, 32, 36, 36, 18]          27,680\n",
      "      BatchNorm3d-13       [-1, 32, 36, 36, 18]              64\n",
      "             ReLU-14       [-1, 32, 36, 36, 18]               0\n",
      "       BasicBlock-15       [-1, 32, 36, 36, 18]               0\n",
      "           Conv3d-16       [-1, 32, 36, 36, 18]          27,680\n",
      "      BatchNorm3d-17       [-1, 32, 36, 36, 18]              64\n",
      "             ReLU-18       [-1, 32, 36, 36, 18]               0\n",
      "           Conv3d-19       [-1, 32, 36, 36, 18]          27,680\n",
      "      BatchNorm3d-20       [-1, 32, 36, 36, 18]              64\n",
      "             ReLU-21       [-1, 32, 36, 36, 18]               0\n",
      "       BasicBlock-22       [-1, 32, 36, 36, 18]               0\n",
      "           Conv3d-23        [-1, 64, 18, 18, 9]           2,112\n",
      "      BatchNorm3d-24        [-1, 64, 18, 18, 9]             128\n",
      "           Conv3d-25        [-1, 64, 18, 18, 9]          55,360\n",
      "      BatchNorm3d-26        [-1, 64, 18, 18, 9]             128\n",
      "             ReLU-27        [-1, 64, 18, 18, 9]               0\n",
      "           Conv3d-28        [-1, 64, 18, 18, 9]         110,656\n",
      "      BatchNorm3d-29        [-1, 64, 18, 18, 9]             128\n",
      "             ReLU-30        [-1, 64, 18, 18, 9]               0\n",
      "       BasicBlock-31        [-1, 64, 18, 18, 9]               0\n",
      "           Conv3d-32        [-1, 64, 18, 18, 9]         110,656\n",
      "      BatchNorm3d-33        [-1, 64, 18, 18, 9]             128\n",
      "             ReLU-34        [-1, 64, 18, 18, 9]               0\n",
      "           Conv3d-35        [-1, 64, 18, 18, 9]         110,656\n",
      "      BatchNorm3d-36        [-1, 64, 18, 18, 9]             128\n",
      "             ReLU-37        [-1, 64, 18, 18, 9]               0\n",
      "       BasicBlock-38        [-1, 64, 18, 18, 9]               0\n",
      "           Conv3d-39         [-1, 128, 9, 9, 5]           8,320\n",
      "      BatchNorm3d-40         [-1, 128, 9, 9, 5]             256\n",
      "           Conv3d-41         [-1, 128, 9, 9, 5]         221,312\n",
      "      BatchNorm3d-42         [-1, 128, 9, 9, 5]             256\n",
      "             ReLU-43         [-1, 128, 9, 9, 5]               0\n",
      "           Conv3d-44         [-1, 128, 9, 9, 5]         442,496\n",
      "      BatchNorm3d-45         [-1, 128, 9, 9, 5]             256\n",
      "             ReLU-46         [-1, 128, 9, 9, 5]               0\n",
      "       BasicBlock-47         [-1, 128, 9, 9, 5]               0\n",
      "           Conv3d-48         [-1, 128, 9, 9, 5]         442,496\n",
      "      BatchNorm3d-49         [-1, 128, 9, 9, 5]             256\n",
      "             ReLU-50         [-1, 128, 9, 9, 5]               0\n",
      "           Conv3d-51         [-1, 128, 9, 9, 5]         442,496\n",
      "      BatchNorm3d-52         [-1, 128, 9, 9, 5]             256\n",
      "             ReLU-53         [-1, 128, 9, 9, 5]               0\n",
      "       BasicBlock-54         [-1, 128, 9, 9, 5]               0\n",
      "           Conv3d-55          [-1, 64, 9, 9, 5]           8,256\n",
      "AdaptiveAvgPool3d-56          [-1, 64, 3, 3, 1]               0\n",
      "           Linear-57                   [-1, 64]          36,928\n",
      "             ReLU-58                   [-1, 64]               0\n",
      "          Dropout-59                   [-1, 64]               0\n",
      "           Linear-60                    [-1, 2]             130\n",
      "       LogSoftmax-61                    [-1, 2]               0\n",
      "================================================================\n",
      "Total params: 2,093,444\n",
      "Trainable params: 2,093,444\n",
      "Non-trainable params: 0\n",
      "----------------------------------------------------------------\n",
      "Input size (MB): 127.43\n",
      "Forward/backward pass size (MB): 141.80\n",
      "Params size (MB): 7.99\n",
      "Estimated Total Size (MB): 277.21\n",
      "----------------------------------------------------------------\n",
      "None\n"
     ]
    },
    {
     "name": "stderr",
     "output_type": "stream",
     "text": [
      "C:\\Users\\pha\\anaconda3\\envs\\1pha\\lib\\site-packages\\torch\\nn\\modules\\container.py:117: UserWarning: Implicit dimension choice for log_softmax has been deprecated. Change the call to include dim=X as an argument.\n",
      "  input = module(input)\n"
     ]
    }
   ],
   "source": [
    "device = torch.device('cuda:0' if torch.cuda.is_available() else 'cpu')\n",
    "model.to(device)\n",
    "print(summary(model, input_size=(179, 72, 72, 36)))"
   ]
  },
  {
   "cell_type": "markdown",
   "metadata": {},
   "source": [
    "## DataLoader"
   ]
  },
  {
   "cell_type": "code",
   "execution_count": 6,
   "metadata": {
    "ExecuteTime": {
     "end_time": "2020-12-14T11:16:10.168743Z",
     "start_time": "2020-12-14T11:16:10.155744Z"
    }
   },
   "outputs": [],
   "source": [
    "from torch.utils.data import DataLoader, Dataset\n",
    "\n",
    "class MyDataset(Dataset):\n",
    "    \n",
    "    def __init__(self, datatype='blur', test=False):\n",
    "        \n",
    "        if datatype == 'blur':\n",
    "            self.datafiles = glob('blurred/*.BRIK')\n",
    "            \n",
    "        elif datatype == 'scale':\n",
    "            self.datafiles = glob('scaled/*.BRIK')\n",
    "            \n",
    "        else:\n",
    "            pass\n",
    "    \n",
    "        if test: self.datafiles[-5:]\n",
    "        else: self.datafiles[:-5]\n",
    "        self.demographics = pd.read_csv('participants_with_runs.csv')\n",
    "        \n",
    "    def __getitem__(self, idx):\n",
    "        \n",
    "        x = torch.tensor(nib.load(self.datafiles[idx]).get_fdata()).float()\n",
    "        y = torch.tensor(self.demographics.loc[idx].YB).float()\n",
    "        \n",
    "        return x, y\n",
    "    \n",
    "    def __len__(self):\n",
    "        return len(self.datafiles)"
   ]
  },
  {
   "cell_type": "code",
   "execution_count": 7,
   "metadata": {
    "ExecuteTime": {
     "end_time": "2020-12-14T11:16:10.378938Z",
     "start_time": "2020-12-14T11:16:10.170717Z"
    }
   },
   "outputs": [],
   "source": [
    "dset = MyDataset('scale')\n",
    "dloader = DataLoader(dset)"
   ]
  },
  {
   "cell_type": "markdown",
   "metadata": {},
   "source": [
    "## Run"
   ]
  },
  {
   "cell_type": "markdown",
   "metadata": {},
   "source": [
    "Many loss functions were used in turn."
   ]
  },
  {
   "cell_type": "code",
   "execution_count": 8,
   "metadata": {
    "ExecuteTime": {
     "end_time": "2020-12-14T11:16:10.393963Z",
     "start_time": "2020-12-14T11:16:10.380905Z"
    }
   },
   "outputs": [],
   "source": [
    "# loss_fn = nn.BCELoss(weight=torch.Tensor([1/44, 1/25]))\n",
    "weight = torch.FloatTensor([(1/44)**2, (1/25)**2]).to(device)\n",
    "# loss_fn = nn.CrossEntropyLoss(weight=torch.FloatTensor([1/44, 1/25]).to(device))\n",
    "loss_fn = nn.CrossEntropyLoss(weight=weight)\n",
    "# loss_fn = nn.CrossEntropyLoss()"
   ]
  },
  {
   "cell_type": "markdown",
   "metadata": {},
   "source": [
    "Scheduler was meaningless. I've commented that out"
   ]
  },
  {
   "cell_type": "code",
   "execution_count": 9,
   "metadata": {
    "ExecuteTime": {
     "end_time": "2020-12-14T11:16:10.393963Z",
     "start_time": "2020-12-14T11:16:10.380905Z"
    }
   },
   "outputs": [],
   "source": [
    "optimizer = optim.Adam(model.parameters())\n",
    "# scheduler = MultiplicativeLR(optimizer, lr_lambda=lambda epoch: 0.97)"
   ]
  },
  {
   "cell_type": "code",
   "execution_count": 10,
   "metadata": {},
   "outputs": [],
   "source": [
    "to_np = lambda t: t.cpu().detach().numpy()"
   ]
  },
  {
   "cell_type": "code",
   "execution_count": 11,
   "metadata": {
    "ExecuteTime": {
     "end_time": "2020-12-14T12:51:16.504581Z",
     "start_time": "2020-12-14T11:16:10.425078Z"
    },
    "scrolled": false
   },
   "outputs": [
    {
     "name": "stdout",
     "output_type": "stream",
     "text": [
      "Epoch 0\n",
      "              precision    recall  f1-score   support\n",
      "\n",
      "           0       0.64      0.98      0.77        44\n",
      "           1       0.50      0.04      0.07        25\n",
      "\n",
      "    accuracy                           0.64        69\n",
      "   macro avg       0.57      0.51      0.42        69\n",
      "weighted avg       0.59      0.64      0.52        69\n",
      "\n",
      "Epoch 1\n",
      "              precision    recall  f1-score   support\n",
      "\n",
      "           0       0.69      0.93      0.80        44\n",
      "           1       0.70      0.28      0.40        25\n",
      "\n",
      "    accuracy                           0.70        69\n",
      "   macro avg       0.70      0.61      0.60        69\n",
      "weighted avg       0.70      0.70      0.65        69\n",
      "\n",
      "Epoch 2\n",
      "              precision    recall  f1-score   support\n",
      "\n",
      "           0       0.79      0.84      0.81        44\n",
      "           1       0.68      0.60      0.64        25\n",
      "\n",
      "    accuracy                           0.75        69\n",
      "   macro avg       0.73      0.72      0.73        69\n",
      "weighted avg       0.75      0.75      0.75        69\n",
      "\n",
      "Epoch 3\n",
      "              precision    recall  f1-score   support\n",
      "\n",
      "           0       0.78      0.86      0.82        44\n",
      "           1       0.70      0.56      0.62        25\n",
      "\n",
      "    accuracy                           0.75        69\n",
      "   macro avg       0.74      0.71      0.72        69\n",
      "weighted avg       0.75      0.75      0.75        69\n",
      "\n",
      "Epoch 4\n",
      "              precision    recall  f1-score   support\n",
      "\n",
      "           0       0.81      0.86      0.84        44\n",
      "           1       0.73      0.64      0.68        25\n",
      "\n",
      "    accuracy                           0.78        69\n",
      "   macro avg       0.77      0.75      0.76        69\n",
      "weighted avg       0.78      0.78      0.78        69\n",
      "\n",
      "Epoch 5\n",
      "              precision    recall  f1-score   support\n",
      "\n",
      "           0       0.64      0.86      0.74        44\n",
      "           1       0.40      0.16      0.23        25\n",
      "\n",
      "    accuracy                           0.61        69\n",
      "   macro avg       0.52      0.51      0.48        69\n",
      "weighted avg       0.56      0.61      0.55        69\n",
      "\n",
      "Epoch 6\n",
      "              precision    recall  f1-score   support\n",
      "\n",
      "           0       0.80      0.89      0.84        44\n",
      "           1       0.75      0.60      0.67        25\n",
      "\n",
      "    accuracy                           0.78        69\n",
      "   macro avg       0.77      0.74      0.75        69\n",
      "weighted avg       0.78      0.78      0.78        69\n",
      "\n",
      "Epoch 7\n",
      "              precision    recall  f1-score   support\n",
      "\n",
      "           0       0.71      0.77      0.74        44\n",
      "           1       0.52      0.44      0.48        25\n",
      "\n",
      "    accuracy                           0.65        69\n",
      "   macro avg       0.62      0.61      0.61        69\n",
      "weighted avg       0.64      0.65      0.64        69\n",
      "\n",
      "Epoch 8\n",
      "              precision    recall  f1-score   support\n",
      "\n",
      "           0       0.78      0.91      0.84        44\n",
      "           1       0.78      0.56      0.65        25\n",
      "\n",
      "    accuracy                           0.78        69\n",
      "   macro avg       0.78      0.73      0.75        69\n",
      "weighted avg       0.78      0.78      0.77        69\n",
      "\n",
      "Epoch 9\n",
      "              precision    recall  f1-score   support\n",
      "\n",
      "           0       0.89      0.93      0.91        44\n",
      "           1       0.87      0.80      0.83        25\n",
      "\n",
      "    accuracy                           0.88        69\n",
      "   macro avg       0.88      0.87      0.87        69\n",
      "weighted avg       0.88      0.88      0.88        69\n",
      "\n"
     ]
    }
   ],
   "source": [
    "losses, ans, accs = [], [], []\n",
    "for e in range(10):\n",
    "    \n",
    "    print(f\"Epoch {e}\")\n",
    "    epoch_pred, epoch_true = [], []\n",
    "    bth_loss = 0\n",
    "    for i, (x, y) in enumerate(dloader):\n",
    "        \n",
    "        x, y = x.permute(0, 4, 1, 2, 3).to(device), y.to(device)\n",
    "        epoch_true.append(round(float(y)))\n",
    "        \n",
    "        optimizer.zero_grad()\n",
    "        \n",
    "        y_pred = model.forward(x).to(device)\n",
    "        epoch_pred.append(to_np(y_pred.argmax()))\n",
    "        \n",
    "        loss = loss_fn(y_pred, y.type(torch.long))\n",
    "        bth_loss += loss.item()\n",
    "        \n",
    "        loss.backward()\n",
    "        optimizer.step()\n",
    "#         scheduler.step()\n",
    "        \n",
    "    torch.cuda.empty_cache()\n",
    "    \n",
    "    losses.append(bth_loss / len(dloader))\n",
    "    ans.append((epoch_true, epoch_pred))\n",
    "    \n",
    "#     if e % 10 == 0:\n",
    "#         plt.title(f'Loss of Epoch {e+1}')\n",
    "#         plt.plot(losses)\n",
    "#         plt.grid()\n",
    "        \n",
    "#         plt.title(f'Accuracy of Epoch {e+1}')\n",
    "#         plt.plot(accs)\n",
    "#         plt.grid()\n",
    "    \n",
    "    print(classification_report(epoch_true, np.array(epoch_pred) > 0.5))\n",
    "    accs.append(classification_report(epoch_true, np.array(epoch_pred) > 0.5).split('\\n')[5].split()[1])"
   ]
  },
  {
   "cell_type": "code",
   "execution_count": 12,
   "metadata": {
    "ExecuteTime": {
     "end_time": "2020-12-14T12:51:16.745110Z",
     "start_time": "2020-12-14T12:51:16.509584Z"
    }
   },
   "outputs": [
    {
     "data": {
      "image/png": "[encoded data removed]",
      "text/plain": [
       "<Figure size 432x288 with 1 Axes>"
      ]
     },
     "metadata": {
      "needs_background": "light"
     },
     "output_type": "display_data"
    }
   ],
   "source": [
    "plt.title(f'Loss of Epoch {e+1}')\n",
    "plt.plot(losses)\n",
    "plt.grid()"
   ]
  },
  {
   "cell_type": "code",
   "execution_count": 13,
   "metadata": {
    "ExecuteTime": {
     "end_time": "2020-12-14T12:51:16.850234Z",
     "start_time": "2020-12-14T12:51:16.746107Z"
    }
   },
   "outputs": [
    {
     "data": {
      "image/png": "[encoded data removed]",
      "text/plain": [
       "<Figure size 432x288 with 1 Axes>"
      ]
     },
     "metadata": {
      "needs_background": "light"
     },
     "output_type": "display_data"
    }
   ],
   "source": [
    "plt.title(f'Accuracy of Epoch {e+1}')\n",
    "plt.plot(accs)\n",
    "plt.grid()"
   ]
  },
  {
   "cell_type": "markdown",
   "metadata": {},
   "source": [
    "## Guided Backpropagation"
   ]
  },
  {
   "cell_type": "code",
   "execution_count": 14,
   "metadata": {
    "ExecuteTime": {
     "end_time": "2020-12-14T12:51:17.137007Z",
     "start_time": "2020-12-14T12:51:16.851270Z"
    }
   },
   "outputs": [
    {
     "ename": "FileNotFoundError",
     "evalue": "[Errno 2] No such file or directory: 'model_scale.pth'",
     "output_type": "error",
     "traceback": [
      "\u001b[1;31m---------------------------------------------------------------------------\u001b[0m",
      "\u001b[1;31mFileNotFoundError\u001b[0m                         Traceback (most recent call last)",
      "\u001b[1;32m<ipython-input-14-e9d06961424d>\u001b[0m in \u001b[0;36m<module>\u001b[1;34m\u001b[0m\n\u001b[0;32m      1\u001b[0m \u001b[1;31m# torch.save(model, 'model.pth')\u001b[0m\u001b[1;33m\u001b[0m\u001b[1;33m\u001b[0m\u001b[1;33m\u001b[0m\u001b[0m\n\u001b[1;32m----> 2\u001b[1;33m \u001b[0mmodel\u001b[0m\u001b[1;33m=\u001b[0m \u001b[0mtorch\u001b[0m\u001b[1;33m.\u001b[0m\u001b[0mload\u001b[0m\u001b[1;33m(\u001b[0m\u001b[1;34m'model_scale.pth'\u001b[0m\u001b[1;33m)\u001b[0m\u001b[1;33m\u001b[0m\u001b[1;33m\u001b[0m\u001b[0m\n\u001b[0m",
      "\u001b[1;32m~\\anaconda3\\envs\\1pha\\lib\\site-packages\\torch\\serialization.py\u001b[0m in \u001b[0;36mload\u001b[1;34m(f, map_location, pickle_module, **pickle_load_args)\u001b[0m\n\u001b[0;32m    569\u001b[0m         \u001b[0mpickle_load_args\u001b[0m\u001b[1;33m[\u001b[0m\u001b[1;34m'encoding'\u001b[0m\u001b[1;33m]\u001b[0m \u001b[1;33m=\u001b[0m \u001b[1;34m'utf-8'\u001b[0m\u001b[1;33m\u001b[0m\u001b[1;33m\u001b[0m\u001b[0m\n\u001b[0;32m    570\u001b[0m \u001b[1;33m\u001b[0m\u001b[0m\n\u001b[1;32m--> 571\u001b[1;33m     \u001b[1;32mwith\u001b[0m \u001b[0m_open_file_like\u001b[0m\u001b[1;33m(\u001b[0m\u001b[0mf\u001b[0m\u001b[1;33m,\u001b[0m \u001b[1;34m'rb'\u001b[0m\u001b[1;33m)\u001b[0m \u001b[1;32mas\u001b[0m \u001b[0mopened_file\u001b[0m\u001b[1;33m:\u001b[0m\u001b[1;33m\u001b[0m\u001b[1;33m\u001b[0m\u001b[0m\n\u001b[0m\u001b[0;32m    572\u001b[0m         \u001b[1;32mif\u001b[0m \u001b[0m_is_zipfile\u001b[0m\u001b[1;33m(\u001b[0m\u001b[0mopened_file\u001b[0m\u001b[1;33m)\u001b[0m\u001b[1;33m:\u001b[0m\u001b[1;33m\u001b[0m\u001b[1;33m\u001b[0m\u001b[0m\n\u001b[0;32m    573\u001b[0m             \u001b[1;31m# The zipfile reader is going to advance the current file position.\u001b[0m\u001b[1;33m\u001b[0m\u001b[1;33m\u001b[0m\u001b[1;33m\u001b[0m\u001b[0m\n",
      "\u001b[1;32m~\\anaconda3\\envs\\1pha\\lib\\site-packages\\torch\\serialization.py\u001b[0m in \u001b[0;36m_open_file_like\u001b[1;34m(name_or_buffer, mode)\u001b[0m\n\u001b[0;32m    227\u001b[0m \u001b[1;32mdef\u001b[0m \u001b[0m_open_file_like\u001b[0m\u001b[1;33m(\u001b[0m\u001b[0mname_or_buffer\u001b[0m\u001b[1;33m,\u001b[0m \u001b[0mmode\u001b[0m\u001b[1;33m)\u001b[0m\u001b[1;33m:\u001b[0m\u001b[1;33m\u001b[0m\u001b[1;33m\u001b[0m\u001b[0m\n\u001b[0;32m    228\u001b[0m     \u001b[1;32mif\u001b[0m \u001b[0m_is_path\u001b[0m\u001b[1;33m(\u001b[0m\u001b[0mname_or_buffer\u001b[0m\u001b[1;33m)\u001b[0m\u001b[1;33m:\u001b[0m\u001b[1;33m\u001b[0m\u001b[1;33m\u001b[0m\u001b[0m\n\u001b[1;32m--> 229\u001b[1;33m         \u001b[1;32mreturn\u001b[0m \u001b[0m_open_file\u001b[0m\u001b[1;33m(\u001b[0m\u001b[0mname_or_buffer\u001b[0m\u001b[1;33m,\u001b[0m \u001b[0mmode\u001b[0m\u001b[1;33m)\u001b[0m\u001b[1;33m\u001b[0m\u001b[1;33m\u001b[0m\u001b[0m\n\u001b[0m\u001b[0;32m    230\u001b[0m     \u001b[1;32melse\u001b[0m\u001b[1;33m:\u001b[0m\u001b[1;33m\u001b[0m\u001b[1;33m\u001b[0m\u001b[0m\n\u001b[0;32m    231\u001b[0m         \u001b[1;32mif\u001b[0m \u001b[1;34m'w'\u001b[0m \u001b[1;32min\u001b[0m \u001b[0mmode\u001b[0m\u001b[1;33m:\u001b[0m\u001b[1;33m\u001b[0m\u001b[1;33m\u001b[0m\u001b[0m\n",
      "\u001b[1;32m~\\anaconda3\\envs\\1pha\\lib\\site-packages\\torch\\serialization.py\u001b[0m in \u001b[0;36m__init__\u001b[1;34m(self, name, mode)\u001b[0m\n\u001b[0;32m    208\u001b[0m \u001b[1;32mclass\u001b[0m \u001b[0m_open_file\u001b[0m\u001b[1;33m(\u001b[0m\u001b[0m_opener\u001b[0m\u001b[1;33m)\u001b[0m\u001b[1;33m:\u001b[0m\u001b[1;33m\u001b[0m\u001b[1;33m\u001b[0m\u001b[0m\n\u001b[0;32m    209\u001b[0m     \u001b[1;32mdef\u001b[0m \u001b[0m__init__\u001b[0m\u001b[1;33m(\u001b[0m\u001b[0mself\u001b[0m\u001b[1;33m,\u001b[0m \u001b[0mname\u001b[0m\u001b[1;33m,\u001b[0m \u001b[0mmode\u001b[0m\u001b[1;33m)\u001b[0m\u001b[1;33m:\u001b[0m\u001b[1;33m\u001b[0m\u001b[1;33m\u001b[0m\u001b[0m\n\u001b[1;32m--> 210\u001b[1;33m         \u001b[0msuper\u001b[0m\u001b[1;33m(\u001b[0m\u001b[0m_open_file\u001b[0m\u001b[1;33m,\u001b[0m \u001b[0mself\u001b[0m\u001b[1;33m)\u001b[0m\u001b[1;33m.\u001b[0m\u001b[0m__init__\u001b[0m\u001b[1;33m(\u001b[0m\u001b[0mopen\u001b[0m\u001b[1;33m(\u001b[0m\u001b[0mname\u001b[0m\u001b[1;33m,\u001b[0m \u001b[0mmode\u001b[0m\u001b[1;33m)\u001b[0m\u001b[1;33m)\u001b[0m\u001b[1;33m\u001b[0m\u001b[1;33m\u001b[0m\u001b[0m\n\u001b[0m\u001b[0;32m    211\u001b[0m \u001b[1;33m\u001b[0m\u001b[0m\n\u001b[0;32m    212\u001b[0m     \u001b[1;32mdef\u001b[0m \u001b[0m__exit__\u001b[0m\u001b[1;33m(\u001b[0m\u001b[0mself\u001b[0m\u001b[1;33m,\u001b[0m \u001b[1;33m*\u001b[0m\u001b[0margs\u001b[0m\u001b[1;33m)\u001b[0m\u001b[1;33m:\u001b[0m\u001b[1;33m\u001b[0m\u001b[1;33m\u001b[0m\u001b[0m\n",
      "\u001b[1;31mFileNotFoundError\u001b[0m: [Errno 2] No such file or directory: 'model_scale.pth'"
     ]
    }
   ],
   "source": [
    "# torch.save(model, 'model.pth')\n",
    "model= torch.load('model_scale.pth')"
   ]
  },
  {
   "cell_type": "code",
   "execution_count": null,
   "metadata": {
    "ExecuteTime": {
     "end_time": "2020-12-14T12:51:17.139005Z",
     "start_time": "2020-12-14T11:16:03.316Z"
    }
   },
   "outputs": [],
   "source": [
    "import nibabel as nib\n",
    "from guided_backprop import GuidedBackprop\n",
    "\n",
    "_ = model.eval()\n",
    "\n",
    "# Remove LogSoftmax\n",
    "model.classifier = nn.Sequential(*list(model.classifier.children())[:-1])\n",
    "\n",
    "GBP = GuidedBackprop(model)"
   ]
  },
  {
   "cell_type": "code",
   "execution_count": null,
   "metadata": {
    "ExecuteTime": {
     "end_time": "2020-12-14T12:51:17.141005Z",
     "start_time": "2020-12-14T11:16:03.323Z"
    }
   },
   "outputs": [],
   "source": [
    "inputs, label = x.permute(3, 0, 1, 2), torch.BoolTensor(0)\n",
    "input_img = nn.Parameter(torch.FloatTensor(inputs).unsqueeze(0), requires_grad=True).to(device)\n",
    "\n",
    "guided_grads = GBP.generate_gradients(input_img, label)\n",
    "\n",
    "export_gradient = np.zeros((3,75,93,81))\n",
    "export_gradient[:, 8:-8, 8:-8, :-10] = guided_grads\n",
    "nifti_img = nib.Nifti1Image(export_gradient.transpose(1, 2, 3, 0), np.eye(4))\n",
    "nifti_img = nib.Nifti1Image(guided_grads.transpose(1, 2, 3, 0), np.eye(4))\n",
    "nifti_img.to_filename('vis_tmp.nii.gz')"
   ]
  },
  {
   "cell_type": "code",
   "execution_count": null,
   "metadata": {
    "ExecuteTime": {
     "end_time": "2020-12-14T12:51:17.142005Z",
     "start_time": "2020-12-14T11:16:03.326Z"
    }
   },
   "outputs": [],
   "source": [
    "nib.load('vis_tmp.nii.gz').get_data()[[nib.load('vis_tmp.nii.gz').get_fdata() != 0]]"
   ]
  },
  {
   "cell_type": "code",
   "execution_count": null,
   "metadata": {},
   "outputs": [],
   "source": []
  }
 ],
 "metadata": {
  "kernelspec": {
   "display_name": "Python 3",
   "language": "python",
   "name": "python3"
  },
  "language_info": {
   "codemirror_mode": {
    "name": "ipython",
    "version": 3
   },
   "file_extension": ".py",
   "mimetype": "text/x-python",
   "name": "python",
   "nbconvert_exporter": "python",
   "pygments_lexer": "ipython3",
   "version": "3.7.7"
  },
  "toc": {
   "base_numbering": 1,
   "nav_menu": {},
   "number_sections": true,
   "sideBar": true,
   "skip_h1_title": false,
   "title_cell": "Table of Contents",
   "title_sidebar": "Contents",
   "toc_cell": false,
   "toc_position": {},
   "toc_section_display": true,
   "toc_window_display": false
  }
 },
 "nbformat": 4,
 "nbformat_minor": 4
}
