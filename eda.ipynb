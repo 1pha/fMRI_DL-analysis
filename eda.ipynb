{
 "cells": [
  {
   "cell_type": "code",
   "execution_count": 1,
   "metadata": {
    "ExecuteTime": {
     "end_time": "2020-12-11T07:59:22.744035Z",
     "start_time": "2020-12-11T07:59:19.716039Z"
    }
   },
   "outputs": [],
   "source": [
    "import numpy as np\n",
    "import pandas as pd\n",
    "from glob import glob\n",
    "import matplotlib.pyplot as plt\n",
    "\n",
    "from sklearn.metrics import classification_report\n",
    "\n",
    "import nibabel as nib\n",
    "\n",
    "import torch\n",
    "import torch.optim as optim\n",
    "\n",
    "from torchsummary import summary\n",
    "\n",
    "%matplotlib inline"
   ]
  },
  {
   "cell_type": "markdown",
   "metadata": {},
   "source": [
    "They have only one size."
   ]
  },
  {
   "cell_type": "code",
   "execution_count": 2,
   "metadata": {
    "ExecuteTime": {
     "end_time": "2020-12-11T07:59:22.759038Z",
     "start_time": "2020-12-11T07:59:22.746038Z"
    }
   },
   "outputs": [],
   "source": [
    "# set(nib.load(b).get_fdata().shape for b in glob('blurred/*.BRIK'))"
   ]
  },
  {
   "cell_type": "markdown",
   "metadata": {},
   "source": [
    "## Model"
   ]
  },
  {
   "cell_type": "code",
   "execution_count": 3,
   "metadata": {
    "ExecuteTime": {
     "end_time": "2020-12-11T07:59:22.789036Z",
     "start_time": "2020-12-11T07:59:22.762035Z"
    }
   },
   "outputs": [],
   "source": [
    "from model import *"
   ]
  },
  {
   "cell_type": "code",
   "execution_count": 4,
   "metadata": {
    "ExecuteTime": {
     "end_time": "2020-12-11T07:59:22.864041Z",
     "start_time": "2020-12-11T07:59:22.790037Z"
    }
   },
   "outputs": [
    {
     "name": "stderr",
     "output_type": "stream",
     "text": [
      "G:\\My Drive\\termpj\\model.py:90: UserWarning: nn.init.xavier_uniform is now deprecated in favor of nn.init.xavier_uniform_.\n",
      "  nn.init.xavier_uniform(m.weight, gain=nn.init.calculate_gain('relu'))\n"
     ]
    }
   ],
   "source": [
    "model = DeepBrain(inplanes=179, planes=3)"
   ]
  },
  {
   "cell_type": "code",
   "execution_count": 5,
   "metadata": {
    "ExecuteTime": {
     "end_time": "2020-12-11T07:59:27.295366Z",
     "start_time": "2020-12-11T07:59:22.866037Z"
    }
   },
   "outputs": [
    {
     "name": "stdout",
     "output_type": "stream",
     "text": [
      "----------------------------------------------------------------\n",
      "        Layer (type)               Output Shape         Param #\n",
      "================================================================\n",
      "            Conv3d-1        [-1, 3, 72, 72, 36]             540\n",
      "       BatchNorm3d-2        [-1, 3, 72, 72, 36]               6\n",
      "              ReLU-3        [-1, 3, 72, 72, 36]               0\n",
      "            Conv3d-4       [-1, 16, 36, 36, 18]           1,312\n",
      "       BatchNorm3d-5       [-1, 16, 36, 36, 18]              32\n",
      "              ReLU-6       [-1, 16, 36, 36, 18]               0\n",
      "            Conv3d-7       [-1, 32, 36, 36, 18]             544\n",
      "       BatchNorm3d-8       [-1, 32, 36, 36, 18]              64\n",
      "            Conv3d-9       [-1, 32, 36, 36, 18]          13,856\n",
      "      BatchNorm3d-10       [-1, 32, 36, 36, 18]              64\n",
      "             ReLU-11       [-1, 32, 36, 36, 18]               0\n",
      "           Conv3d-12       [-1, 32, 36, 36, 18]          27,680\n",
      "      BatchNorm3d-13       [-1, 32, 36, 36, 18]              64\n",
      "             ReLU-14       [-1, 32, 36, 36, 18]               0\n",
      "       BasicBlock-15       [-1, 32, 36, 36, 18]               0\n",
      "           Conv3d-16       [-1, 32, 36, 36, 18]          27,680\n",
      "      BatchNorm3d-17       [-1, 32, 36, 36, 18]              64\n",
      "             ReLU-18       [-1, 32, 36, 36, 18]               0\n",
      "           Conv3d-19       [-1, 32, 36, 36, 18]          27,680\n",
      "      BatchNorm3d-20       [-1, 32, 36, 36, 18]              64\n",
      "             ReLU-21       [-1, 32, 36, 36, 18]               0\n",
      "       BasicBlock-22       [-1, 32, 36, 36, 18]               0\n",
      "           Conv3d-23        [-1, 64, 18, 18, 9]           2,112\n",
      "      BatchNorm3d-24        [-1, 64, 18, 18, 9]             128\n",
      "           Conv3d-25        [-1, 64, 18, 18, 9]          55,360\n",
      "      BatchNorm3d-26        [-1, 64, 18, 18, 9]             128\n",
      "             ReLU-27        [-1, 64, 18, 18, 9]               0\n",
      "           Conv3d-28        [-1, 64, 18, 18, 9]         110,656\n",
      "      BatchNorm3d-29        [-1, 64, 18, 18, 9]             128\n",
      "             ReLU-30        [-1, 64, 18, 18, 9]               0\n",
      "       BasicBlock-31        [-1, 64, 18, 18, 9]               0\n",
      "           Conv3d-32        [-1, 64, 18, 18, 9]         110,656\n",
      "      BatchNorm3d-33        [-1, 64, 18, 18, 9]             128\n",
      "             ReLU-34        [-1, 64, 18, 18, 9]               0\n",
      "           Conv3d-35        [-1, 64, 18, 18, 9]         110,656\n",
      "      BatchNorm3d-36        [-1, 64, 18, 18, 9]             128\n",
      "             ReLU-37        [-1, 64, 18, 18, 9]               0\n",
      "       BasicBlock-38        [-1, 64, 18, 18, 9]               0\n",
      "           Conv3d-39         [-1, 128, 9, 9, 5]           8,320\n",
      "      BatchNorm3d-40         [-1, 128, 9, 9, 5]             256\n",
      "           Conv3d-41         [-1, 128, 9, 9, 5]         221,312\n",
      "      BatchNorm3d-42         [-1, 128, 9, 9, 5]             256\n",
      "             ReLU-43         [-1, 128, 9, 9, 5]               0\n",
      "           Conv3d-44         [-1, 128, 9, 9, 5]         442,496\n",
      "      BatchNorm3d-45         [-1, 128, 9, 9, 5]             256\n",
      "             ReLU-46         [-1, 128, 9, 9, 5]               0\n",
      "       BasicBlock-47         [-1, 128, 9, 9, 5]               0\n",
      "           Conv3d-48         [-1, 128, 9, 9, 5]         442,496\n",
      "      BatchNorm3d-49         [-1, 128, 9, 9, 5]             256\n",
      "             ReLU-50         [-1, 128, 9, 9, 5]               0\n",
      "           Conv3d-51         [-1, 128, 9, 9, 5]         442,496\n",
      "      BatchNorm3d-52         [-1, 128, 9, 9, 5]             256\n",
      "             ReLU-53         [-1, 128, 9, 9, 5]               0\n",
      "       BasicBlock-54         [-1, 128, 9, 9, 5]               0\n",
      "           Conv3d-55          [-1, 64, 9, 9, 5]           8,256\n",
      "AdaptiveAvgPool3d-56          [-1, 64, 3, 3, 1]               0\n",
      "           Linear-57                   [-1, 64]          36,928\n",
      "             ReLU-58                   [-1, 64]               0\n",
      "          Dropout-59                   [-1, 64]               0\n",
      "           Linear-60                    [-1, 1]              65\n",
      "          Sigmoid-61                    [-1, 1]               0\n",
      "================================================================\n",
      "Total params: 2,093,379\n",
      "Trainable params: 2,093,379\n",
      "Non-trainable params: 0\n",
      "----------------------------------------------------------------\n",
      "Input size (MB): 127.43\n",
      "Forward/backward pass size (MB): 141.80\n",
      "Params size (MB): 7.99\n",
      "Estimated Total Size (MB): 277.21\n",
      "----------------------------------------------------------------\n",
      "None\n"
     ]
    }
   ],
   "source": [
    "device = torch.device('cuda:0' if torch.cuda.is_available() else 'cpu')\n",
    "model.to(device)\n",
    "print(summary(model, input_size=(179, 72, 72, 36)))"
   ]
  },
  {
   "cell_type": "markdown",
   "metadata": {},
   "source": [
    "## DataLoader"
   ]
  },
  {
   "cell_type": "code",
   "execution_count": 6,
   "metadata": {
    "ExecuteTime": {
     "end_time": "2020-12-11T07:59:27.310362Z",
     "start_time": "2020-12-11T07:59:27.298364Z"
    }
   },
   "outputs": [],
   "source": [
    "from torch.utils.data import DataLoader, Dataset\n",
    "\n",
    "class MyDataset(Dataset):\n",
    "    \n",
    "    def __init__(self, datatype='blur', test=False):\n",
    "        \n",
    "        if datatype == 'blur':\n",
    "            self.datafiles = glob('blurred/*.BRIK')\n",
    "            \n",
    "        elif datatype == 'scale':\n",
    "            self.datafiles = glob('scaled/*.BRIK')\n",
    "            \n",
    "        else:\n",
    "            pass\n",
    "    \n",
    "        if test: self.datafiles[-5:]\n",
    "        else: self.datafiles[:-5]\n",
    "        self.demographics = pd.read_csv('participants_with_runs.csv')\n",
    "        \n",
    "    def __getitem__(self, idx):\n",
    "        \n",
    "        x = torch.tensor(nib.load(self.datafiles[idx]).get_fdata()).float()\n",
    "        y = torch.tensor(self.demographics.loc[idx].YB).float()\n",
    "        \n",
    "        return x, y\n",
    "    \n",
    "    def __len__(self):\n",
    "        return len(self.datafiles)"
   ]
  },
  {
   "cell_type": "code",
   "execution_count": 7,
   "metadata": {
    "ExecuteTime": {
     "end_time": "2020-12-11T07:59:27.340360Z",
     "start_time": "2020-12-11T07:59:27.312362Z"
    }
   },
   "outputs": [],
   "source": [
    "dset = MyDataset()\n",
    "dloader = DataLoader(dset)"
   ]
  },
  {
   "cell_type": "markdown",
   "metadata": {},
   "source": [
    "## Run"
   ]
  },
  {
   "cell_type": "code",
   "execution_count": 8,
   "metadata": {
    "ExecuteTime": {
     "end_time": "2020-12-11T07:59:27.355360Z",
     "start_time": "2020-12-11T07:59:27.342363Z"
    }
   },
   "outputs": [],
   "source": [
    "# loss_fn = nn.BCELoss(weight=[1/44, 1/25])\n",
    "loss_fn = nn.BCELoss()\n",
    "optimizer = optim.Adam(model.parameters())"
   ]
  },
  {
   "cell_type": "code",
   "execution_count": null,
   "metadata": {
    "ExecuteTime": {
     "start_time": "2020-12-11T07:59:19.684Z"
    },
    "scrolled": false
   },
   "outputs": [
    {
     "name": "stdout",
     "output_type": "stream",
     "text": [
      "Epoch 0\n",
      "              precision    recall  f1-score   support\n",
      "\n",
      "           0       0.64      0.98      0.77        44\n",
      "           1       0.50      0.04      0.07        25\n",
      "\n",
      "    accuracy                           0.64        69\n",
      "   macro avg       0.57      0.51      0.42        69\n",
      "weighted avg       0.59      0.64      0.52        69\n",
      "\n",
      "Epoch 1\n",
      "              precision    recall  f1-score   support\n",
      "\n",
      "           0       0.61      0.84      0.70        44\n",
      "           1       0.12      0.04      0.06        25\n",
      "\n",
      "    accuracy                           0.55        69\n",
      "   macro avg       0.37      0.44      0.38        69\n",
      "weighted avg       0.43      0.55      0.47        69\n",
      "\n",
      "Epoch 2\n",
      "              precision    recall  f1-score   support\n",
      "\n",
      "           0       0.62      0.91      0.74        44\n",
      "           1       0.20      0.04      0.07        25\n",
      "\n",
      "    accuracy                           0.59        69\n",
      "   macro avg       0.41      0.47      0.40        69\n",
      "weighted avg       0.47      0.59      0.50        69\n",
      "\n",
      "Epoch 3\n",
      "              precision    recall  f1-score   support\n",
      "\n",
      "           0       0.62      0.86      0.72        44\n",
      "           1       0.25      0.08      0.12        25\n",
      "\n",
      "    accuracy                           0.58        69\n",
      "   macro avg       0.44      0.47      0.42        69\n",
      "weighted avg       0.49      0.58      0.51        69\n",
      "\n",
      "Epoch 4\n",
      "              precision    recall  f1-score   support\n",
      "\n",
      "           0       0.63      0.98      0.77        44\n",
      "           1       0.00      0.00      0.00        25\n",
      "\n",
      "    accuracy                           0.62        69\n",
      "   macro avg       0.32      0.49      0.38        69\n",
      "weighted avg       0.40      0.62      0.49        69\n",
      "\n",
      "Epoch 5\n"
     ]
    },
    {
     "name": "stderr",
     "output_type": "stream",
     "text": [
      "C:\\Users\\pha\\anaconda3\\lib\\site-packages\\sklearn\\metrics\\_classification.py:1221: UndefinedMetricWarning: Precision and F-score are ill-defined and being set to 0.0 in labels with no predicted samples. Use `zero_division` parameter to control this behavior.\n",
      "  _warn_prf(average, modifier, msg_start, len(result))\n"
     ]
    },
    {
     "name": "stdout",
     "output_type": "stream",
     "text": [
      "              precision    recall  f1-score   support\n",
      "\n",
      "           0       0.64      1.00      0.78        44\n",
      "           1       0.00      0.00      0.00        25\n",
      "\n",
      "    accuracy                           0.64        69\n",
      "   macro avg       0.32      0.50      0.39        69\n",
      "weighted avg       0.41      0.64      0.50        69\n",
      "\n",
      "Epoch 6\n",
      "              precision    recall  f1-score   support\n",
      "\n",
      "           0       0.66      0.89      0.76        44\n",
      "           1       0.50      0.20      0.29        25\n",
      "\n",
      "    accuracy                           0.64        69\n",
      "   macro avg       0.58      0.54      0.52        69\n",
      "weighted avg       0.60      0.64      0.59        69\n",
      "\n",
      "Epoch 7\n",
      "              precision    recall  f1-score   support\n",
      "\n",
      "           0       0.60      0.75      0.67        44\n",
      "           1       0.21      0.12      0.15        25\n",
      "\n",
      "    accuracy                           0.52        69\n",
      "   macro avg       0.41      0.43      0.41        69\n",
      "weighted avg       0.46      0.52      0.48        69\n",
      "\n",
      "Epoch 8\n",
      "              precision    recall  f1-score   support\n",
      "\n",
      "           0       0.62      0.73      0.67        44\n",
      "           1       0.29      0.20      0.24        25\n",
      "\n",
      "    accuracy                           0.54        69\n",
      "   macro avg       0.45      0.46      0.45        69\n",
      "weighted avg       0.50      0.54      0.51        69\n",
      "\n",
      "Epoch 9\n",
      "              precision    recall  f1-score   support\n",
      "\n",
      "           0       0.61      0.84      0.70        44\n",
      "           1       0.12      0.04      0.06        25\n",
      "\n",
      "    accuracy                           0.55        69\n",
      "   macro avg       0.37      0.44      0.38        69\n",
      "weighted avg       0.43      0.55      0.47        69\n",
      "\n",
      "Epoch 10\n"
     ]
    }
   ],
   "source": [
    "losses, ans, accs = [], [], []\n",
    "for e in range(100):\n",
    "    \n",
    "    print(f\"Epoch {e}\")\n",
    "    epoch_pred, epoch_true = [], []\n",
    "    bth_loss = 0\n",
    "    for i, (x, y) in enumerate(dloader):\n",
    "        \n",
    "        x, y = x.permute(0, 4, 1, 2, 3).to(device), y.to(device)\n",
    "        epoch_true.append(round(float(y)))\n",
    "        \n",
    "        optimizer.zero_grad()\n",
    "        \n",
    "        y_pred = model.forward(x).to(device)\n",
    "        epoch_pred.append(float(y_pred.squeeze(1)))\n",
    "        \n",
    "        loss = loss_fn(y_pred.squeeze(1), y)\n",
    "        bth_loss += loss.item()\n",
    "        \n",
    "        loss.backward()\n",
    "        optimizer.step()\n",
    "        \n",
    "    torch.cuda.empty_cache()\n",
    "    \n",
    "    losses.append(bth_loss / len(dloader))\n",
    "    ans.append((epoch_true, epoch_pred))\n",
    "    \n",
    "    if e % 10 == 9:\n",
    "        plt.title(f'Loss of Epoch {e+1}')\n",
    "        plt.plot(losses)\n",
    "        plt.grid()\n",
    "    \n",
    "    print(classification_report(epoch_true, np.array(epoch_pred) > 0.5))\n",
    "    accs.append(classification_report(epoch_true, np.array(epoch_pred) > 0.5).split('\\n')[5].split()[1])"
   ]
  },
  {
   "cell_type": "code",
   "execution_count": null,
   "metadata": {},
   "outputs": [],
   "source": []
  }
 ],
 "metadata": {
  "kernelspec": {
   "display_name": "Python 3",
   "language": "python",
   "name": "python3"
  },
  "language_info": {
   "codemirror_mode": {
    "name": "ipython",
    "version": 3
   },
   "file_extension": ".py",
   "mimetype": "text/x-python",
   "name": "python",
   "nbconvert_exporter": "python",
   "pygments_lexer": "ipython3",
   "version": "3.7.7"
  },
  "toc": {
   "base_numbering": 1,
   "nav_menu": {},
   "number_sections": true,
   "sideBar": true,
   "skip_h1_title": false,
   "title_cell": "Table of Contents",
   "title_sidebar": "Contents",
   "toc_cell": false,
   "toc_position": {},
   "toc_section_display": true,
   "toc_window_display": false
  }
 },
 "nbformat": 4,
 "nbformat_minor": 4
}
